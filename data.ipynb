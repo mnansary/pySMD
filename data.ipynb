{
 "cells": [
  {
   "cell_type": "markdown",
   "metadata": {},
   "source": [
    "# Smiles Data To Memory Efficient Tfrecord (For GCS Bucket)\n",
    "* Setup the following parameters:\n",
    "    * **DATA_SMI='/path/to/some/dataset.smi'**\n",
    "    * **TFRECORD_PATH='/folder/path/to/save/tfrecords/'**\n",
    "    * **SMI_MAX_LEN=maximum charecter length of smiles in the dataset.smi**"
   ]
  },
  {
   "cell_type": "code",
   "execution_count": 1,
   "metadata": {},
   "outputs": [],
   "source": [
    "DATA_SMI     = '/home/ansary/RESEARCH/nCov/pySMD/data/sample_dataset_c_34_128.smi' # @param\n",
    "TFRECORD_PATH= '/home/ansary/RESEARCH/nCov/pySMD/data/tfrecSMDsample/'  # @param\n",
    "SMI_MAX_LEN  = 128 # @param\n",
    "EVAL_SPLIT   = 0.2"
   ]
  },
  {
   "cell_type": "markdown",
   "metadata": {},
   "source": [
    "# Imports and Fixed Parameters"
   ]
  },
  {
   "cell_type": "code",
   "execution_count": 2,
   "metadata": {},
   "outputs": [],
   "source": [
    "import os\n",
    "import numpy as np\n",
    "from rdkit import Chem\n",
    "from tqdm.notebook import tqdm\n",
    "import tensorflow as tf\n",
    "import matplotlib.pyplot as plt\n",
    "%matplotlib inline\n",
    "import cv2\n",
    "\n",
    "def create_dir(dir_name):\n",
    "    if not os.path.exists(dir_name):\n",
    "        os.mkdir(dir_name)\n",
    "\n",
    "# train and eval dir\n",
    "TRAIN_DIR= os.path.join(TFRECORD_PATH,'Train')\n",
    "EVAL_DIR = os.path.join(TFRECORD_PATH,'Eval')\n",
    "\n",
    "create_dir(TFRECORD_PATH)\n",
    "create_dir(TRAIN_DIR)\n",
    "create_dir(EVAL_DIR)"
   ]
  },
  {
   "cell_type": "markdown",
   "metadata": {},
   "source": [
    "# Sample Data Visualization"
   ]
  },
  {
   "cell_type": "code",
   "execution_count": 3,
   "metadata": {},
   "outputs": [
    {
     "name": "stdout",
     "output_type": "stream",
     "text": [
      "Total Smile Data: 438552\n",
      "Smile Example Data: O=C1Nc2cc(NC(=O)c3c[nH]cc(-c4ccc(C(F)(F)F)cc4)c3=O)ccc2C1=Cc1ccc[nH]1\n"
     ]
    },
    {
     "data": {
      "image/png": "[encoded data removed]",
      "text/plain": [
       "<rdkit.Chem.rdchem.Mol at 0x7fba8e7a2300>"
      ]
     },
     "execution_count": 3,
     "metadata": {},
     "output_type": "execute_result"
    }
   ],
   "source": [
    "with open(DATA_SMI) as f:\n",
    "    smiles = [s.rstrip() for s in f]\n",
    "print('Total Smile Data:',len(smiles))    \n",
    "print('Smile Example Data:',smiles[0])   \n",
    "molecule=Chem.MolFromSmiles(smiles[0])\n",
    "molecule"
   ]
  },
  {
   "cell_type": "markdown",
   "metadata": {},
   "source": [
    "# Tokenizer Class\n",
    "* The tokenizer class is kept as same as the  State Of The Art **LSTM_Chem** : **smiles_tokenizer** \n",
    "**[SOURCE]( https://github.com/topazape/LSTM_Chem/blob/b469e6aff2df28de99b9c4541a1a76d4d4fd77b0/lstm_chem/utils/smiles_tokenizer2.py)**"
   ]
  },
  {
   "cell_type": "code",
   "execution_count": 4,
   "metadata": {},
   "outputs": [],
   "source": [
    "class SmilesTokenizer(object):\n",
    "    def __init__(self):\n",
    "        atoms = ['Al', 'As', 'B', 'Br', 'C', 'Cl', \n",
    "                 'F', 'H', 'I', 'K', 'Li', 'N',\n",
    "                 'Na', 'O', 'P', 'S', 'Se', 'Si', 'Te']\n",
    "        special = ['(', ')', '[', ']', '=', '#', '%', '0', '1', '2', '3', '4', '5',\n",
    "            '6', '7', '8', '9', '+', '-', 'se', 'te', 'c', 'n', 'o', 's']\n",
    "        padding = ['G', 'A', 'E']\n",
    "\n",
    "        self.table = sorted(atoms, key=len, reverse=True) + special + padding\n",
    "        table_len = len(self.table)\n",
    "\n",
    "        self.table_2_chars = list(filter(lambda x: len(x) == 2, self.table))\n",
    "        self.table_1_chars = list(filter(lambda x: len(x) == 1, self.table))\n",
    "\n",
    "        self.one_hot_dict = {}\n",
    "        for i, symbol in enumerate(self.table):\n",
    "            vec = np.zeros(table_len, dtype=np.float32)\n",
    "            vec[i] = 1\n",
    "            self.one_hot_dict[symbol] = vec\n",
    "\n",
    "    def tokenize(self, smiles):\n",
    "        smiles = smiles + ' '\n",
    "        N = len(smiles)\n",
    "        token = []\n",
    "        i = 0\n",
    "        while (i < N):\n",
    "            c1 = smiles[i]\n",
    "            c2 = smiles[i:i + 2]\n",
    "\n",
    "            if c2 in self.table_2_chars:\n",
    "                token.append(c2)\n",
    "                i += 2\n",
    "                continue\n",
    "\n",
    "            if c1 in self.table_1_chars:\n",
    "                token.append(c1)\n",
    "                i += 1\n",
    "                continue\n",
    "\n",
    "            i += 1\n",
    "\n",
    "        return token\n",
    "\n",
    "    def one_hot_encode(self, tokenized_smiles):\n",
    "        result = np.array(\n",
    "            [self.one_hot_dict[symbol] for symbol in tokenized_smiles],\n",
    "            dtype=np.float32)\n",
    "        result = result.reshape(1, result.shape[0], result.shape[1])\n",
    "        return result\n",
    "\n",
    "tokenizer=SmilesTokenizer()"
   ]
  },
  {
   "cell_type": "markdown",
   "metadata": {},
   "source": [
    "# Tfrecord utils\n",
    "* one hot encodes the **tokenized-padded** smiles data\n",
    "* encodes the data to **.png** format\n",
    "* extacts the **bytes** and writes to **tfrecord**"
   ]
  },
  {
   "cell_type": "code",
   "execution_count": 5,
   "metadata": {},
   "outputs": [],
   "source": [
    "def _bytes_feature(value):\n",
    "    return tf.train.Feature(bytes_list=tf.train.BytesList(value=[value]))\n",
    "def _int64_feature(value):\n",
    "      return tf.train.Feature(int64_list=tf.train.Int64List(value=[value]))\n",
    "def _float_feature(value):\n",
    "      return tf.train.Feature(float_list=tf.train.FloatList(value=[value]))\n",
    "\n",
    "def to_tfrecord(data,save_dir,r_num):\n",
    "    tfrecord_name='{}.tfrecord'.format(r_num)\n",
    "    tfrecord_path=os.path.join(save_dir,tfrecord_name)\n",
    "    with tf.io.TFRecordWriter(tfrecord_path) as writer:    \n",
    "        for tp_smi in data:\n",
    "            # one_hot_encoding\n",
    "            X = np.array([tokenizer.one_hot_dict[symbol] for symbol in tp_smi[:-1]],dtype=np.uint8)\n",
    "            y = np.array([tokenizer.one_hot_dict[symbol] for symbol in tp_smi[1:]],dtype=np.uint8)\n",
    "            # png encoded data\n",
    "            _,X_coded = cv2.imencode('.png',X)\n",
    "            _,y_coded = cv2.imencode('.png',y)\n",
    "            # byte conversion\n",
    "            x_bytes = X_coded.tobytes()\n",
    "            y_bytes = y_coded.tobytes()\n",
    "            # data_dict\n",
    "            data_dict ={  'X':_bytes_feature(x_bytes),\n",
    "                          'Y':_bytes_feature(y_bytes)}\n",
    "            # writting to tfrecord\n",
    "            features=tf.train.Features(feature=data_dict)\n",
    "            example= tf.train.Example(features=features)\n",
    "            serialized=example.SerializeToString()\n",
    "            writer.write(serialized)   \n",
    "\n",
    "# save the data as tfrecord\n",
    "def create_records(_smiles,save_path,mode,BATCH_SIZE=10240):\n",
    "    print('Saving The data to tfrecord:',mode)\n",
    "    for i in  tqdm(range(0,len(_smiles),BATCH_SIZE)):\n",
    "        data=_smiles[i:BATCH_SIZE+i]\n",
    "        r_num=i//BATCH_SIZE\n",
    "        to_tfrecord(data,save_path,r_num)"
   ]
  },
  {
   "cell_type": "markdown",
   "metadata": {},
   "source": [
    "# Saving the data\n",
    "* Tokenizing the smiles \n",
    "* Padding the tokenized smiles as per [LSTM_Chem:data_loader](https://github.com/topazape/LSTM_Chem/blob/b469e6aff2df28de99b9c4541a1a76d4d4fd77b0/lstm_chem/data_loader.py)\n",
    "* Saving to tfrecords"
   ]
  },
  {
   "cell_type": "code",
   "execution_count": 6,
   "metadata": {},
   "outputs": [
    {
     "name": "stdout",
     "output_type": "stream",
     "text": [
      "Tokenizing the smiles\n"
     ]
    },
    {
     "data": {
      "application/vnd.jupyter.widget-view+json": {
       "model_id": "3e229ca22c18484e9591b196377206be",
       "version_major": 2,
       "version_minor": 0
      },
      "text/plain": [
       "HBox(children=(FloatProgress(value=0.0, max=438552.0), HTML(value='')))"
      ]
     },
     "metadata": {},
     "output_type": "display_data"
    },
    {
     "name": "stdout",
     "output_type": "stream",
     "text": [
      "\n",
      "Padding the smiles with max length\n"
     ]
    },
    {
     "data": {
      "application/vnd.jupyter.widget-view+json": {
       "model_id": "d19263096377497bb99cd8bfc74812a3",
       "version_major": 2,
       "version_minor": 0
      },
      "text/plain": [
       "HBox(children=(FloatProgress(value=0.0, max=438552.0), HTML(value='')))"
      ]
     },
     "metadata": {},
     "output_type": "display_data"
    },
    {
     "name": "stdout",
     "output_type": "stream",
     "text": [
      "\n",
      "Saving The data to tfrecord: Train\n"
     ]
    },
    {
     "data": {
      "application/vnd.jupyter.widget-view+json": {
       "model_id": "6054d89ea5c541eea76413161da27d6a",
       "version_major": 2,
       "version_minor": 0
      },
      "text/plain": [
       "HBox(children=(FloatProgress(value=0.0, max=35.0), HTML(value='')))"
      ]
     },
     "metadata": {},
     "output_type": "display_data"
    },
    {
     "name": "stdout",
     "output_type": "stream",
     "text": [
      "\n",
      "Saving The data to tfrecord: Eval\n"
     ]
    },
    {
     "data": {
      "application/vnd.jupyter.widget-view+json": {
       "model_id": "0253fea9d72040b88b150ff6bb6b9722",
       "version_major": 2,
       "version_minor": 0
      },
      "text/plain": [
       "HBox(children=(FloatProgress(value=0.0, max=9.0), HTML(value='')))"
      ]
     },
     "metadata": {},
     "output_type": "display_data"
    },
    {
     "name": "stdout",
     "output_type": "stream",
     "text": [
      "\n"
     ]
    }
   ],
   "source": [
    "# tokenizing the smiles\n",
    "print('Tokenizing the smiles')\n",
    "tokenized_smiles = [tokenizer.tokenize(smi) for smi in tqdm(smiles)]\n",
    "# padding the smiles with max length \n",
    "print('Padding the smiles with max length')\n",
    "padded_smiles = [['G'] + tokenized_smi + ['E']+\n",
    "                 ['A' for _ in range(SMI_MAX_LEN -len(tokenized_smi))]\n",
    "                 for tokenized_smi in tqdm(tokenized_smiles)]\n",
    "\n",
    "# data Split\n",
    "eval_data_len=int(len(padded_smiles)*EVAL_SPLIT)\n",
    "train_smiles= padded_smiles[eval_data_len:]\n",
    "eval_smiles = padded_smiles[:eval_data_len]\n",
    "\n",
    "# saving records\n",
    "create_records(train_smiles,TRAIN_DIR,'Train')\n",
    "create_records(eval_smiles,EVAL_DIR,'Eval')\n",
    "\n",
    "\n",
    "        "
   ]
  },
  {
   "cell_type": "markdown",
   "metadata": {},
   "source": [
    "# But why use \".png\" bytes instead of \"float32\" one hot encoded data?\n",
    "* Simple Answer: **DataSize**\n",
    "\n",
    "### Data Inspection"
   ]
  },
  {
   "cell_type": "code",
   "execution_count": 21,
   "metadata": {},
   "outputs": [
    {
     "name": "stdout",
     "output_type": "stream",
     "text": [
      "Example Smile: O=C1Nc2cc(NC(=O)c3c[nH]cc(-c4ccc(C(F)(F)F)cc4)c3=O)ccc2C1=Cc1ccc[nH]1\n",
      "\n",
      "Tokenized Smile: ['O', '=', 'C', '1', 'N', 'c', '2', 'c', 'c', '(', 'N', 'C', '(', '=', 'O', ')', 'c', '3', 'c', '[', 'n', 'H', ']', 'c', 'c', '(', '-', 'c', '4', 'c', 'c', 'c', '(', 'C', '(', 'F', ')', '(', 'F', ')', 'F', ')', 'c', 'c', '4', ')', 'c', '3', '=', 'O', ')', 'c', 'c', 'c', '2', 'C', '1', '=', 'C', 'c', '1', 'c', 'c', 'c', '[', 'n', 'H', ']', '1']\n",
      "\n",
      "Padded Smile: ['G', 'O', '=', 'C', '1', 'N', 'c', '2', 'c', 'c', '(', 'N', 'C', '(', '=', 'O', ')', 'c', '3', 'c', '[', 'n', 'H', ']', 'c', 'c', '(', '-', 'c', '4', 'c', 'c', 'c', '(', 'C', '(', 'F', ')', '(', 'F', ')', 'F', ')', 'c', 'c', '4', ')', 'c', '3', '=', 'O', ')', 'c', 'c', 'c', '2', 'C', '1', '=', 'C', 'c', '1', 'c', 'c', 'c', '[', 'n', 'H', ']', '1', 'E', 'A', 'A', 'A', 'A', 'A', 'A', 'A', 'A', 'A', 'A', 'A', 'A', 'A', 'A', 'A', 'A', 'A', 'A', 'A', 'A', 'A', 'A', 'A', 'A', 'A', 'A', 'A', 'A', 'A', 'A', 'A', 'A', 'A', 'A', 'A', 'A', 'A', 'A', 'A', 'A', 'A', 'A', 'A', 'A', 'A', 'A', 'A', 'A', 'A', 'A', 'A', 'A', 'A', 'A', 'A', 'A', 'A', 'A', 'A']\n",
      "One hot Encoded Input Data: [[0. 0. 0. ... 1. 0. 0.]\n",
      " [0. 0. 0. ... 0. 0. 0.]\n",
      " [0. 0. 0. ... 0. 0. 0.]\n",
      " ...\n",
      " [0. 0. 0. ... 0. 1. 0.]\n",
      " [0. 0. 0. ... 0. 1. 0.]\n",
      " [0. 0. 0. ... 0. 1. 0.]]\n",
      "\n",
      "Input Shape: (129, 47)\n",
      "\n",
      "One hot Encoded Target Data: [[0. 0. 0. ... 0. 0. 0.]\n",
      " [0. 0. 0. ... 0. 0. 0.]\n",
      " [0. 0. 0. ... 0. 0. 0.]\n",
      " ...\n",
      " [0. 0. 0. ... 0. 1. 0.]\n",
      " [0. 0. 0. ... 0. 1. 0.]\n",
      " [0. 0. 0. ... 0. 1. 0.]]\n",
      "\n",
      "Target Shape: (129, 47)\n",
      "\n",
      "Input Size: 24364  bytes\n",
      "Target Size: 24364  bytes\n",
      "Approximate Total Space needed to store the data as it is: 21.37 Giga bytes\n"
     ]
    }
   ],
   "source": [
    "import sys\n",
    "\n",
    "example_smile=smiles[0]\n",
    "print('Example Smile:',example_smile)\n",
    "print()\n",
    "tokenized=tokenizer.tokenize(example_smile)\n",
    "print('Tokenized Smile:',tokenized)\n",
    "print()\n",
    "padded=['G'] + tokenized + ['E']+ ['A' for _ in range(SMI_MAX_LEN -len(tokenized))]\n",
    "print('Padded Smile:',padded)\n",
    "X = np.array([tokenizer.one_hot_dict[symbol] for symbol in padded[:-1]])\n",
    "y = np.array([tokenizer.one_hot_dict[symbol] for symbol in padded[1:]])\n",
    "print('One hot Encoded Input Data:',X)\n",
    "print()\n",
    "print('Input Shape:',X.shape)\n",
    "print()\n",
    "print('One hot Encoded Target Data:',y)\n",
    "print()\n",
    "print('Target Shape:',y.shape)\n",
    "print()\n",
    "print('Input Size:',sys.getsizeof(X),' bytes')\n",
    "print('Target Size:',sys.getsizeof(y),' bytes')\n",
    "print('Approximate Total Space needed to store the data as it is:',\n",
    "      round((2*len(padded_smiles)*sys.getsizeof(X))/10**9,2),'Giga bytes')\n",
    "\n"
   ]
  },
  {
   "cell_type": "code",
   "execution_count": 22,
   "metadata": {},
   "outputs": [
    {
     "name": "stdout",
     "output_type": "stream",
     "text": [
      "float32 Data visualization\n",
      "Input\n"
     ]
    },
    {
     "data": {
      "image/png": "[encoded data removed]",
      "text/plain": [
       "<Figure size 432x288 with 1 Axes>"
      ]
     },
     "metadata": {
      "needs_background": "light"
     },
     "output_type": "display_data"
    },
    {
     "name": "stdout",
     "output_type": "stream",
     "text": [
      "Data Sign: [0. 1.]\n",
      "Target\n"
     ]
    },
    {
     "data": {
      "image/png": "[encoded data removed]",
      "text/plain": [
       "<Figure size 432x288 with 1 Axes>"
      ]
     },
     "metadata": {
      "needs_background": "light"
     },
     "output_type": "display_data"
    },
    {
     "name": "stdout",
     "output_type": "stream",
     "text": [
      "Data Sign: [0. 1.]\n",
      "uint8 Data visualization\n",
      "Input\n"
     ]
    },
    {
     "data": {
      "image/png": "[encoded data removed]",
      "text/plain": [
       "<Figure size 432x288 with 1 Axes>"
      ]
     },
     "metadata": {
      "needs_background": "light"
     },
     "output_type": "display_data"
    },
    {
     "name": "stdout",
     "output_type": "stream",
     "text": [
      "Data Sign: [0 1]\n",
      "Target\n"
     ]
    },
    {
     "data": {
      "image/png": "[encoded data removed]",
      "text/plain": [
       "<Figure size 432x288 with 1 Axes>"
      ]
     },
     "metadata": {
      "needs_background": "light"
     },
     "output_type": "display_data"
    },
    {
     "name": "stdout",
     "output_type": "stream",
     "text": [
      "Data Sign: [0 1]\n"
     ]
    }
   ],
   "source": [
    "# Data as unit8\n",
    "print('float32 Data visualization')\n",
    "print('Input')\n",
    "plt.imshow(X)\n",
    "plt.show()\n",
    "print('Data Sign:',np.unique(X))\n",
    "print('Target')\n",
    "plt.imshow(y)\n",
    "plt.show()\n",
    "print('Data Sign:',np.unique(y))\n",
    "\n",
    "X=X.astype(np.uint8)\n",
    "y=y.astype(np.uint8)\n",
    "\n",
    "print('uint8 Data visualization')\n",
    "print('Input')\n",
    "plt.imshow(X)\n",
    "plt.show()\n",
    "print('Data Sign:',np.unique(X))\n",
    "print('Target')\n",
    "plt.imshow(y)\n",
    "plt.show()\n",
    "print('Data Sign:',np.unique(y))"
   ]
  },
  {
   "cell_type": "code",
   "execution_count": 25,
   "metadata": {},
   "outputs": [
    {
     "name": "stdout",
     "output_type": "stream",
     "text": [
      "Encoded bytes datasize:Input: 469  bytes\n",
      "Encoded bytes datasize:Target: 469  bytes\n",
      "Approximate Total Space needed to store the data in .png raw bytes: 0.41 Giga bytes\n"
     ]
    }
   ],
   "source": [
    "# Png encoded data\n",
    "_,X_coded = cv2.imencode('.png',X)\n",
    "_,y_coded = cv2.imencode('.png',y)\n",
    "# Byte conversion\n",
    "x_bytes = X_coded.tobytes()\n",
    "y_bytes = y_coded.tobytes()\n",
    "print('Encoded bytes datasize:Input:',sys.getsizeof(x_bytes),' bytes')\n",
    "print('Encoded bytes datasize:Target:',sys.getsizeof(y_bytes),' bytes')\n",
    "print('Approximate Total Space needed to store the data in .png raw bytes:',\n",
    "      round((2*len(padded_smiles)*sys.getsizeof(x_bytes))/10**9,2),'Giga bytes')\n"
   ]
  },
  {
   "cell_type": "markdown",
   "metadata": {},
   "source": [
    "# Data Pipeline Check"
   ]
  },
  {
   "cell_type": "code",
   "execution_count": 28,
   "metadata": {},
   "outputs": [
    {
     "name": "stdout",
     "output_type": "stream",
     "text": [
      "Batched Input Data Shape: (1024, 129, 47)\n",
      "Batched Target Data Shape: (1024, 129, 47)\n",
      "Sample Input Data: tf.Tensor(\n",
      "[[0. 0. 0. ... 1. 0. 0.]\n",
      " [0. 0. 0. ... 0. 0. 0.]\n",
      " [0. 0. 0. ... 0. 0. 0.]\n",
      " ...\n",
      " [0. 0. 0. ... 0. 1. 0.]\n",
      " [0. 0. 0. ... 0. 1. 0.]\n",
      " [0. 0. 0. ... 0. 1. 0.]], shape=(129, 47), dtype=float32)\n",
      "Sample Target Data: tf.Tensor(\n",
      "[[0. 0. 0. ... 0. 0. 0.]\n",
      " [0. 0. 0. ... 0. 0. 0.]\n",
      " [0. 0. 0. ... 0. 0. 0.]\n",
      " ...\n",
      " [0. 0. 0. ... 0. 1. 0.]\n",
      " [0. 0. 0. ... 0. 1. 0.]\n",
      " [0. 0. 0. ... 0. 1. 0.]], shape=(129, 47), dtype=float32)\n"
     ]
    }
   ],
   "source": [
    "BATCH_SIZE=1024\n",
    "BUFFER_SIZE=2048\n",
    "DATA_DIM=(129,47)\n",
    "\n",
    "def data_input_fn(data_path): \n",
    "    def _parser(example):\n",
    "        feature ={  'X'  : tf.io.FixedLenFeature([],tf.string) ,\n",
    "                    'Y' : tf.io.FixedLenFeature([],tf.string)\n",
    "        }    \n",
    "        parsed_example=tf.io.parse_single_example(example,feature)\n",
    "        inp=parsed_example['X']\n",
    "        inp=tf.image.decode_png(inp,channels=1)\n",
    "        inp=tf.cast(inp,tf.float32)\n",
    "        inp=tf.reshape(inp,DATA_DIM)\n",
    "        \n",
    "        tgt=parsed_example['Y']\n",
    "        tgt=tf.image.decode_png(tgt,channels=1)\n",
    "        tgt=tf.cast(tgt,tf.float32)\n",
    "        tgt=tf.reshape(tgt,DATA_DIM)\n",
    "        \n",
    "        return inp,tgt\n",
    "    # get tfrecords from data_path\n",
    "    _pattern=os.path.join(data_path,'*.tfrecord')\n",
    "    # extract file paths\n",
    "    file_paths = tf.io.gfile.glob(_pattern)\n",
    "    # create data set with standard parsing,shuffling,batching and prefetching\n",
    "    dataset = tf.data.TFRecordDataset(file_paths)\n",
    "    dataset = dataset.map(_parser)\n",
    "    dataset = dataset.shuffle(BUFFER_SIZE,reshuffle_each_iteration=True)\n",
    "    dataset = dataset.repeat()\n",
    "    dataset = dataset.batch(BATCH_SIZE,drop_remainder=True)\n",
    "    dataset = dataset.prefetch(tf.data.experimental.AUTOTUNE)\n",
    "    return dataset\n",
    "\n",
    "example_ds = data_input_fn(TRAIN_DIR)\n",
    "for x,y in example_ds.take(1):\n",
    "  print('Batched Input Data Shape:',x.shape)\n",
    "  print('Batched Target Data Shape:',y.shape)\n",
    "  print('Sample Input Data:',x[0])\n",
    "  print('Sample Target Data:',y[0])\n",
    "    "
   ]
  },
  {
   "cell_type": "markdown",
   "metadata": {},
   "source": [
    "# Discussion\n",
    "* After creating your own tfrecords you can upload it to your own bucket\n",
    "* The sample data Access for this specific example is discussed in **README.md**"
   ]
  }
 ],
 "metadata": {
  "kernelspec": {
   "display_name": "smdenv",
   "language": "python",
   "name": "smdenv"
  },
  "language_info": {
   "codemirror_mode": {
    "name": "ipython",
    "version": 3
   },
   "file_extension": ".py",
   "mimetype": "text/x-python",
   "name": "python",
   "nbconvert_exporter": "python",
   "pygments_lexer": "ipython3",
   "version": "3.7.7"
  }
 },
 "nbformat": 4,
 "nbformat_minor": 4
}
